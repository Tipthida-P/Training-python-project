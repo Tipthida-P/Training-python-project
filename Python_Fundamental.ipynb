{
  "cells": [
    {
      "cell_type": "markdown",
      "metadata": {
        "id": "HM5NcMVJ04kh"
      },
      "source": [
        "# The Data Master Week 1 : Python Fundamental"
      ]
    },
    {
      "cell_type": "markdown",
      "metadata": {
        "id": "b83xpRFs1fam"
      },
      "source": [
        "## Colab introduction\n",
        "\n",
        "\n",
        "*   Code cell and Text cell\n",
        "*   Cell Move\n",
        "*   Cell Run\n",
        "*   Computing Resource\n"
      ]
    },
    {
      "cell_type": "code",
      "execution_count": null,
      "metadata": {
        "colab": {
          "base_uri": "https://localhost:8080/"
        },
        "id": "8GWHXpI325Jh",
        "outputId": "77a37391-f9ea-47c9-8a81-59cc5e5da232"
      },
      "outputs": [
        {
          "name": "stdout",
          "output_type": "stream",
          "text": [
            "input string: hello\n",
            "hello <class 'str'>\n",
            "input int: 100\n",
            "100 <class 'int'>\n"
          ]
        }
      ],
      "source": [
        "# input / output #\n",
        "a = input(\"input string: \")\n",
        "print(a, type(a))\n",
        "\n",
        "b = int(input(\"input int: \"))\n",
        "print(b, type(b))"
      ]
    },
    {
      "cell_type": "markdown",
      "metadata": {
        "id": "F78M__oeFEaG"
      },
      "source": [
        "##Data type and variables"
      ]
    },
    {
      "cell_type": "code",
      "execution_count": null,
      "metadata": {
        "colab": {
          "base_uri": "https://localhost:8080/"
        },
        "id": "N-daF0UKFNgY",
        "outputId": "d92c9276-f85c-40fe-f43b-b7a4422f0bcd"
      },
      "outputs": [
        {
          "name": "stdout",
          "output_type": "stream",
          "text": [
            "a = 10 <class 'int'>\n",
            "b = 52.232322324 <class 'float'>\n",
            "c = peter <class 'str'>\n",
            "d = True <class 'bool'>\n",
            "e = None <class 'NoneType'>\n",
            "\n",
            "\n",
            "\n",
            "10 is integer? True\n",
            "52.232322324 is integer? False\n",
            "peter is integer? False\n",
            "True is integer? True\n",
            "None is integer? False\n"
          ]
        }
      ],
      "source": [
        "a = 10\n",
        "b = 52.232322324\n",
        "c = \"peter\"\n",
        "d = True\n",
        "e = None\n",
        "\n",
        "print(\"a =\", a, type(a))\n",
        "print(\"b =\", b, type(b))\n",
        "print(\"c =\", c, type(c))\n",
        "print(\"d =\", d, type(d))\n",
        "print(\"e =\", e, type(e))\n",
        "\n",
        "print(\"\\n\\n\")\n",
        "\n",
        "print(a, \"is integer?\", isinstance(a, int))\n",
        "print(b, \"is integer?\", isinstance(b, int))\n",
        "print(c, \"is integer?\", isinstance(c, int))\n",
        "print(d, \"is integer?\", isinstance(d, int))\n",
        "print(e, \"is integer?\", isinstance(e, bool))"
      ]
    },
    {
      "cell_type": "markdown",
      "metadata": {
        "id": "UjrGDbD-M4bB"
      },
      "source": [
        "## Data Structure\n",
        "\n",
        "**Lists**: are just like dynamic sized arrays, declared in other languages (vector in C++ and ArrayList in Java). Lists need not be homogeneous always which makes it the most powerful tool in Python.\n",
        "\n",
        "**Tuple**: A Tuple is a collection of Python objects separated by commas. In some ways, a tuple is similar to a list in terms of indexing, nested objects, and repetition but a tuple is immutable, unlike lists that are mutable.\n",
        "\n",
        "**Set**: A Set is an unordered collection data type that is iterable, mutable, and has no duplicate elements. Python’s set class represents the mathematical notion of a set.\n",
        "\n",
        "**Dictionary**: in Python is an ordered (since Py 3.7) [unordered (Py 3.6 & prior)] collection of data values, used to store data values like a map, which, unlike other Data Types that hold only a single value as an element, Dictionary holds key:value pair. Key-value is provided in the dictionary to make it more optimized.\n",
        "\n",
        "\n",
        "reference : https://www.geeksforgeeks.org/differences-and-applications-of-list-tuple-set-and-dictionary-in-python/"
      ]
    },
    {
      "cell_type": "code",
      "execution_count": null,
      "metadata": {
        "colab": {
          "base_uri": "https://localhost:8080/"
        },
        "id": "HVTbUfSUOB0r",
        "outputId": "154646c6-182d-475d-98ce-2f07612964f7"
      },
      "outputs": [
        {
          "name": "stdout",
          "output_type": "stream",
          "text": [
            "***LIST***\n",
            "[1, 4, 'Gitam', 6, 'college']\n",
            "Gitam\n",
            "[1, 2, 3]\n",
            "***tuple***\n",
            "(1, 2, 'college', 9)\n",
            "()\n",
            "(1, 3, 5, 9, 'hello')\n",
            "***SET***\n",
            "{1, 2, 4, 5, 'hello', 'tup'}\n",
            "{(1, 8, 'python', 7)}\n",
            "***dictionary***\n",
            "{'key1': 'value1', 'key2': 'value2'}\n",
            "value1\n",
            "{1: 'apple', 2: 'cherry', 3: 'strawberry'}\n"
          ]
        }
      ],
      "source": [
        "list1=[1,4,\"Gitam\",6,\"college\"]\n",
        "list2=[]  # creates an empty list\n",
        "list3=list((1,2,3))\n",
        "print(\"***LIST***\")\n",
        "print(list1)\n",
        "print(list1[2])\n",
        "print(list3)\n",
        "\n",
        "tuple1=(1,2,\"college\",9)\n",
        "tuple2=() # creates an empty tuple\n",
        "tuple3=tuple((1,3,5,9,\"hello\"))\n",
        "print(\"***tuple***\")\n",
        "print(tuple1)\n",
        "print(tuple2)\n",
        "print(tuple3)\n",
        "\n",
        "set1={1,2,5,4,5,\"hello\",\"tup\"}\n",
        "set2={(1,8,\"python\",7)}\n",
        "print(\"***SET***\")\n",
        "print(set1)\n",
        "print(set2)\n",
        "\n",
        "dict1={\"key1\":\"value1\",\"key2\":\"value2\"}\n",
        "dict2={}   # empty dictionary\n",
        "dict3=dict({1:\"apple\",2:\"cherry\",3:\"strawberry\"})\n",
        "print(\"***dictionary***\")\n",
        "print(dict1)\n",
        "print(dict1[\"key1\"])\n",
        "print(dict3)"
      ]
    },
    {
      "cell_type": "code",
      "execution_count": null,
      "metadata": {
        "colab": {
          "base_uri": "https://localhost:8080/"
        },
        "id": "YtRzuUjQi7ww",
        "outputId": "9758c09a-a309-419c-82a6-59b0a6013339"
      },
      "outputs": [
        {
          "name": "stdout",
          "output_type": "stream",
          "text": [
            "['hello', 1, 4, 8, 'good']\n",
            "['morning', 1, 4, 8, 'good']\n",
            "good\n",
            "good\n",
            "[1, 4, 8]\n",
            "['morning', 1, 4, 8, 'good', 'apple', 'mango', 'banana']\n"
          ]
        }
      ],
      "source": [
        "# list and operation #\n",
        "list1=[\"hello\",1,4,8,\"good\"]\n",
        "print(list1)\n",
        "list1[0]=\"morning\"  # assigning values (\"hello\" is replaced with \"morning\")\n",
        "print(list1)\n",
        "print(list1[4])\n",
        "print(list1[-1]) # list also allow negative indexing\n",
        "print(list1[1:4]) # slicing\n",
        "list2=[\"apple\",\"mango\",\"banana\"]\n",
        "print(list1+list2) # list concatenation"
      ]
    },
    {
      "cell_type": "code",
      "execution_count": null,
      "metadata": {
        "id": "_pk5KbbNjkn0"
      },
      "outputs": [],
      "source": [
        "# tuple and operation #\n",
        "tuple1=(\"good\",1,2,3,\"morning\")\n",
        "print(tuple1)\n",
        "print(tuple1[0])  # accessing values using indexing\n",
        "# tuple1[1]=\"change\"  # a value cannot be changed as they are immutable\n",
        "tuple2=(\"orange\",\"grapes\")\n",
        "print(tuple1+tuple2)  # tuples can be concatenated\n",
        "tuple3=(1,2,3)\n",
        "print(type(tuple3))"
      ]
    },
    {
      "cell_type": "code",
      "execution_count": null,
      "metadata": {
        "colab": {
          "base_uri": "https://localhost:8080/"
        },
        "id": "GsQ5Bdv2jtIF",
        "outputId": "a8ad78e4-7c3e-471a-bea0-a00fc3004ea6"
      },
      "outputs": [
        {
          "name": "stdout",
          "output_type": "stream",
          "text": [
            "{1, 2, 3, 4, 5}\n",
            "{1, 3, 6, 7}\n"
          ]
        }
      ],
      "source": [
        "# set and operation #\n",
        "set1={1,2,3,4,5}\n",
        "print(set1) # set1[0] sets are unordered, so it doesnot support indexing\n",
        "set2={3,7,1,6,1} # sets doesnot allow duplicate values\n",
        "print(set2)"
      ]
    },
    {
      "cell_type": "code",
      "execution_count": null,
      "metadata": {
        "colab": {
          "base_uri": "https://localhost:8080/"
        },
        "id": "9uNP_XGWkTr6",
        "outputId": "0c184b71-32b9-403a-e074-e6e63bbbe864"
      },
      "outputs": [
        {
          "name": "stdout",
          "output_type": "stream",
          "text": [
            "dict_keys(['key1', 'key2', 3])\n",
            "{'key1': 'replace_one', 'key2': 'value2', 3: 'value3'}\n",
            "value2\n"
          ]
        }
      ],
      "source": [
        "# dictionary and operation #\n",
        "dict1={\"key1\":1,\"key2\":\"value2\",3:\"value3\"}\n",
        "print(dict1.keys())  # all the keys are printed\n",
        "dict1.values() # all the values are printed\n",
        "dict1[\"key1\"]=\"replace_one\"  # value assigned to key1 is replaced\n",
        "print(dict1)\n",
        "print(dict1[\"key2\"])"
      ]
    },
    {
      "cell_type": "markdown",
      "metadata": {
        "id": "yH_BTAHGvsxr"
      },
      "source": [
        "## Operation\n",
        "\n",
        "\n",
        "*   Mathematics\n",
        "*   Logical\n",
        "*   Membership\n",
        "\n",
        "#### Mathematical Operators ####\n",
        "\n",
        "Mathematical operators are basic arithmetic symbols used to perform addition, subtraction, multiplication, and more.\n",
        "\n",
        "|Operator                  |Description                                                                        |Example |\n",
        "|-------------------------|-------------------------------------------------------------------------------|-------------|\n",
        "|Assignment (=)        |Assigns a variable a value. |(x = 5)       |\n",
        "|+       | Addition.                   |(1 + 2) |\n",
        "|-         | Subtraction. | (2 - 1)\n",
        "|* | Multiplication. |(1 * 2) |\n",
        "|/             |Division. |(10 / 5)|\n",
        "|% | Modulus. |(15 % 2)\n",
        "\n",
        "\n",
        "#### Logical Operators ####\n",
        "\n",
        "Logical operators are used to compare values, they either return True or False.\n",
        "\n",
        "|Operator                  |Description                                                                        |Example |\n",
        "|-------------------------|-------------------------------------------------------------------------------|-------------|\n",
        "|Equal to (==)        |If the values of the two operands are equal, then the condition becomes true. |(a == a) is True.       |\n",
        "|Not Equal to (!=)       |If the values of the two operands are not equal, then the condition becomes true.                    |(a != b) is True.|\n",
        "|Greater Than, Greater than or Equal to (>, >=)          |If the value of the left operand is greater than the value of the right operand then the condition becomes true. | (2>1) is True.\n",
        "|Less Than, Less than or Equal to (<, <=) |If the value of the left operand is less than the value of the right operand then the condition becomes true. |(1<2) is True.|\n",
        "|and              |Returns True if all statements are True. |(1<2 and 2>1) is True.|\n",
        "|or | Returns True if one of the statements is True. |(1<2 or 2<4) is True.\n",
        "|not | Reverse the result, returns False if the statement is True.| not(1<5 and 5>3) is not True.\n",
        "\n",
        "#### Membership Operators ####\n",
        "\n",
        "Membership operators are used to test whether a value or a variable is found in a sequence (string, tuple, list, set or dictionary). These operators become essential when we discuss loops.\n",
        "\n",
        "|Operator                  |Description                                                                        |Example |\n",
        "|-------------------------|-------------------------------------------------------------------------------|-------------|\n",
        "|in| Returns True if a sequence with the specified value is present in the object. | 3 in [1,2,3] is True.\n",
        "|not in| Returns True if a sequence with the specified value is not present in the object. | 4 not in [1,2,3] is True."
      ]
    },
    {
      "cell_type": "code",
      "execution_count": null,
      "metadata": {
        "colab": {
          "base_uri": "https://localhost:8080/"
        },
        "id": "ekfsUz3-2I6A",
        "outputId": "1c761089-7f88-4358-c998-bda9fc3dbb3a"
      },
      "outputs": [
        {
          "name": "stdout",
          "output_type": "stream",
          "text": [
            "p + q 15\n",
            "q * r 125.0\n",
            "q ** s 100\n"
          ]
        }
      ],
      "source": [
        "# mathematics operator #\n",
        "p = 5\n",
        "q = 10\n",
        "r = 12.5\n",
        "s = 2\n",
        "\n",
        "print(\"p + q\", p+q)\n",
        "print(\"q * r\", q*r)\n",
        "print(\"q ** s\", q ** s)"
      ]
    },
    {
      "cell_type": "code",
      "execution_count": null,
      "metadata": {
        "colab": {
          "base_uri": "https://localhost:8080/"
        },
        "id": "hPeh_sMGVO6u",
        "outputId": "ae4599d0-09f3-42ff-af74-7780a360eebe"
      },
      "outputs": [
        {
          "name": "stdout",
          "output_type": "stream",
          "text": [
            "True <class 'bool'>\n",
            "True\n"
          ]
        }
      ],
      "source": [
        "# logical operator #\n",
        "x = 5\n",
        "y = 10\n",
        "print(x < 10,type(x < 10))\n",
        "print(x > 3 and y <20)"
      ]
    },
    {
      "cell_type": "code",
      "execution_count": null,
      "metadata": {
        "colab": {
          "base_uri": "https://localhost:8080/"
        },
        "id": "eQbnzjBptj5p",
        "outputId": "905acace-8786-4f92-dbca-0ddf4888af9e"
      },
      "outputs": [
        {
          "name": "stdout",
          "output_type": "stream",
          "text": [
            "False\n",
            "True\n"
          ]
        }
      ],
      "source": [
        "x_list = [1,2,5,8,45,99]\n",
        "y = 10\n",
        "print(y in x_list)\n",
        "print(y not in x_list)"
      ]
    },
    {
      "cell_type": "markdown",
      "metadata": {
        "id": "cW-hiD-7lOKV"
      },
      "source": [
        "## String\n",
        "*   create string\n",
        "*   concatenate string\n",
        "*   find\n",
        "*   substring\n"
      ]
    },
    {
      "cell_type": "code",
      "execution_count": null,
      "metadata": {
        "colab": {
          "base_uri": "https://localhost:8080/"
        },
        "id": "zfFPaiGeAdCA",
        "outputId": "2eee5253-03e1-45bc-86d9-06b34332c860"
      },
      "outputs": [
        {
          "name": "stdout",
          "output_type": "stream",
          "text": [
            "my_string  Harry Potter\n"
          ]
        }
      ],
      "source": [
        "my_string = \"Harry Potter\"\n",
        "\n",
        "print(\"my_string \", my_string)"
      ]
    },
    {
      "cell_type": "markdown",
      "metadata": {
        "id": "9b8AFLcqB1rb"
      },
      "source": [
        "###Construct string from variable"
      ]
    },
    {
      "cell_type": "code",
      "execution_count": null,
      "metadata": {
        "colab": {
          "base_uri": "https://localhost:8080/"
        },
        "id": "3mvb0NwbBxBU",
        "outputId": "1e30e941-88d3-405a-916d-a535a1e8b4c9"
      },
      "outputs": [
        {
          "name": "stdout",
          "output_type": "stream",
          "text": [
            "Peter_37\n",
            "John_37\n",
            "Nick_37\n"
          ]
        }
      ],
      "source": [
        "my_number = 37\n",
        "\n",
        "new_str = str('Peter_{0}'.format(my_number))\n",
        "print(new_str)\n",
        "\n",
        "new_str = str('John_' + str(my_number))\n",
        "print(new_str)\n",
        "\n",
        "new_str = str('Nick_%d' % (my_number))\n",
        "print(new_str)"
      ]
    },
    {
      "cell_type": "code",
      "execution_count": null,
      "metadata": {
        "colab": {
          "base_uri": "https://localhost:8080/"
        },
        "id": "ZApi144BFhsl",
        "outputId": "24e292a0-642c-45e2-af99-de1f77c39b37"
      },
      "outputs": [
        {
          "name": "stdout",
          "output_type": "stream",
          "text": [
            "Harry Potter\n",
            "a\n",
            "arry Potter\n",
            "Harry\n",
            "ry Po\n",
            "Harry Pot\n"
          ]
        }
      ],
      "source": [
        "my_string = \"Harry Potter\"\n",
        "\n",
        "print(my_string[:])\n",
        "print(my_string[1])\n",
        "print(my_string[1:])\n",
        "print(my_string[:5])\n",
        "print(my_string[3:8])\n",
        "print(my_string[:-3])\n"
      ]
    },
    {
      "cell_type": "code",
      "execution_count": 1,
      "metadata": {
        "id": "VurqEMxFGWfo",
        "colab": {
          "base_uri": "https://localhost:8080/"
        },
        "outputId": "6e42211e-65b9-4b29-91a1-33e3f39f04c5"
      },
      "outputs": [
        {
          "output_type": "stream",
          "name": "stdout",
          "text": [
            "Harry Potter\n",
            "a\n",
            "arry Potter\n",
            "Harry\n",
            "ry Po\n",
            "Harry Pot\n"
          ]
        }
      ],
      "source": [
        "my_string = \"Harry Potter\"\n",
        "\n",
        "print(my_string[:])\n",
        "print(my_string[1])\n",
        "print(my_string[1:])\n",
        "print(my_string[:5])\n",
        "print(my_string[3:8])\n",
        "print(my_string[:-3])"
      ]
    },
    {
      "cell_type": "code",
      "execution_count": null,
      "metadata": {
        "colab": {
          "base_uri": "https://localhost:8080/"
        },
        "id": "iLudlfRXGH4z",
        "outputId": "19e2697e-c784-4feb-d9fb-36b1617e9a50"
      },
      "outputs": [
        {
          "name": "stdout",
          "output_type": "stream",
          "text": [
            "['Harry', 'Potter']\n"
          ]
        }
      ],
      "source": [
        "my_string = \"Harry Potter\"\n",
        "\n",
        "my_string2 = my_string.split()\n",
        "print(my_string2)"
      ]
    },
    {
      "cell_type": "code",
      "execution_count": null,
      "metadata": {
        "colab": {
          "base_uri": "https://localhost:8080/"
        },
        "id": "-aScRdyjRqOG",
        "outputId": "ceb015ae-ae9a-4c2f-ad7f-b27e49fec493"
      },
      "outputs": [
        {
          "name": "stdout",
          "output_type": "stream",
          "text": [
            "Harry Poxxer\n"
          ]
        }
      ],
      "source": [
        "# replace string #\n",
        "my_string = \"Harry Potter\"\n",
        "\n",
        "my_string2 = my_string.replace(\"t\",\"x\")\n",
        "print(my_string2)"
      ]
    },
    {
      "cell_type": "code",
      "execution_count": null,
      "metadata": {
        "colab": {
          "base_uri": "https://localhost:8080/"
        },
        "id": "N60SiCrQSuwu",
        "outputId": "326c1015-cd82-42ac-8497-77b0c8b23b08"
      },
      "outputs": [
        {
          "name": "stdout",
          "output_type": "stream",
          "text": [
            "4\n"
          ]
        }
      ],
      "source": [
        "# find string in a longer string #\n",
        "my_string = \"Harry Potter\"\n",
        "\n",
        "pos = my_string.find(\"y\")\n",
        "print(pos)"
      ]
    },
    {
      "cell_type": "markdown",
      "metadata": {
        "id": "goEofTMtlOKp"
      },
      "source": [
        "## Function\n",
        "*   create new function\n",
        "*   function input\n",
        "*   function output\n",
        "*   recursive function\n",
        "\n",
        "```python\n",
        "def function_name(argument1, argument2,...,):\n",
        "    \"\"\"\n",
        "    Description of function\n",
        "    \"\"\"\n",
        "    \n",
        "    # Function statements\n",
        "    return(return_value)\n",
        "```\n",
        "\n",
        "\n",
        "**Function Name:**  \n",
        "The function name is how you use it later on in the code. *use a well-described function name*.\n",
        "\n",
        "**Arguments:**  \n",
        "These act as variables within your function that take on the values that you pass in when you run.\n",
        "\n",
        "\n",
        "**Function Statements:**  \n",
        "These are what the function will do everytime you call it.\n",
        "\n",
        "**Return Value:**  \n",
        "For returning any calculations you have done within a function, you will need to use the `return` statement. You can only return one value from a function. Moreover, you can return multiple values as a tuple."
      ]
    },
    {
      "cell_type": "code",
      "execution_count": 3,
      "metadata": {
        "colab": {
          "base_uri": "https://localhost:8080/"
        },
        "outputId": "54f2ff1c-404f-46c6-b287-49bc00ac3bda",
        "id": "xSqQNSI0lOKq"
      },
      "outputs": [
        {
          "output_type": "stream",
          "name": "stdout",
          "text": [
            "x  10\n",
            "y  5\n",
            "sum x+y  15\n"
          ]
        }
      ],
      "source": [
        "def my_summation(a,b):\n",
        "  return a+b\n",
        "\n",
        "x = 10\n",
        "y = 5\n",
        "\n",
        "sum = my_summation(x,y)\n",
        "print(\"x \",x)\n",
        "print(\"y \",y)\n",
        "print(\"sum x+y \", sum)"
      ]
    },
    {
      "cell_type": "markdown",
      "metadata": {
        "id": "UWGDrpPTlOKs"
      },
      "source": [
        "### Function Arguments\n",
        "\n"
      ]
    },
    {
      "cell_type": "code",
      "execution_count": null,
      "metadata": {
        "colab": {
          "base_uri": "https://localhost:8080/"
        },
        "outputId": "9defaaee-36e1-46b0-cb9b-cb37bbbf9bc4",
        "id": "cA-ykRcPlOKt"
      },
      "outputs": [
        {
          "name": "stdout",
          "output_type": "stream",
          "text": [
            "x  10\n",
            "sum x+_  11\n",
            "x  10\n",
            "y  5\n",
            "sum x+y  15\n"
          ]
        }
      ],
      "source": [
        "# default argument #\n",
        "def my_summation2(a,b=1):\n",
        "  return a+b\n",
        "\n",
        "x = 10\n",
        "y = 5\n",
        "sum = my_summation2(x)\n",
        "print(\"x \",x)\n",
        "\n",
        "print(\"sum x+_ \", sum)\n",
        "\n",
        "\n",
        "sum = my_summation2(x,y)\n",
        "print(\"x \",x)\n",
        "print(\"y \",y)\n",
        "print(\"sum x+y \", sum)"
      ]
    },
    {
      "cell_type": "markdown",
      "metadata": {
        "id": "IPvNo5qxf5BA"
      },
      "source": [
        "### Keyword Arguments\n",
        "using keyword for input arguments"
      ]
    },
    {
      "cell_type": "code",
      "execution_count": null,
      "metadata": {
        "colab": {
          "base_uri": "https://localhost:8080/"
        },
        "outputId": "27c6e57b-71bb-48a5-c5f9-89c0018cb715",
        "id": "WwN4GM2PlOKv"
      },
      "outputs": [
        {
          "name": "stdout",
          "output_type": "stream",
          "text": [
            "x  10\n",
            "y  5\n",
            "sub x-y  5\n",
            "x  10\n",
            "y  5\n",
            "keyword sub x-y  -5\n"
          ]
        }
      ],
      "source": [
        "# keyword argument #\n",
        "def my_subtract(a,b=1):\n",
        "  return a-b\n",
        "\n",
        "x = 10\n",
        "y = 5\n",
        "sub = my_subtract(x, y)\n",
        "print(\"x \",x)\n",
        "print(\"y \",y)\n",
        "print(\"sub x-y \", sub)\n",
        "\n",
        "\n",
        "sub = my_subtract(b=x, a=y)\n",
        "print(\"x \",x)\n",
        "print(\"y \",y)\n",
        "print(\"keyword sub x-y \", sub)"
      ]
    },
    {
      "cell_type": "markdown",
      "metadata": {
        "id": "zAid5V5UjNXc"
      },
      "source": [
        "### Recursive Function"
      ]
    },
    {
      "cell_type": "code",
      "execution_count": null,
      "metadata": {
        "colab": {
          "base_uri": "https://localhost:8080/"
        },
        "outputId": "3dd2ffb4-fc4b-4f89-8388-b5ee56f7b79c",
        "id": "EI_SvibFlOKy"
      },
      "outputs": [
        {
          "name": "stdout",
          "output_type": "stream",
          "text": [
            " *x  3\n",
            " *x  2\n",
            "The factorial of 3 is 6\n"
          ]
        }
      ],
      "source": [
        "def factorial(x):\n",
        "    \"\"\"This is a recursive function\n",
        "    to find the factorial of an integer\"\"\"\n",
        "\n",
        "    if x == 1:\n",
        "        return 1\n",
        "    else:\n",
        "        print(\" *x \", x)\n",
        "        return (x * factorial(x-1))\n",
        "\n",
        "\n",
        "num = 3\n",
        "print(\"The factorial of\", num, \"is\", factorial(num))"
      ]
    },
    {
      "cell_type": "code",
      "execution_count": null,
      "metadata": {
        "id": "bE_i5KF0lOK1"
      },
      "outputs": [],
      "source": [
        "# if  #\n",
        "x = 10\n",
        "y = 20\n",
        "\n",
        "if x>y:\n",
        "  print(\" x is greater than y.\")\n"
      ]
    },
    {
      "cell_type": "code",
      "execution_count": null,
      "metadata": {
        "colab": {
          "base_uri": "https://localhost:8080/"
        },
        "id": "7nEP-9Q-LTi-",
        "outputId": "f761cd60-3e47-4d22-868a-6c6fc1412a06"
      },
      "outputs": [
        {
          "name": "stdout",
          "output_type": "stream",
          "text": [
            " x is not greater than y.\n"
          ]
        }
      ],
      "source": [
        "# if-else #\n",
        "x = 10\n",
        "y = 20\n",
        "\n",
        "if x>y:\n",
        "  print(\" x is greater than y.\")\n",
        "else:\n",
        "  print(\" x is not greater than y.\")\n"
      ]
    },
    {
      "cell_type": "code",
      "execution_count": null,
      "metadata": {
        "colab": {
          "base_uri": "https://localhost:8080/"
        },
        "id": "_1iQlHEcUno_",
        "outputId": "16eafe05-3b59-40df-d6b9-1d6b3b414fc2"
      },
      "outputs": [
        {
          "name": "stdout",
          "output_type": "stream",
          "text": [
            " x is the lowest.\n"
          ]
        }
      ],
      "source": [
        "# if-elseif-else #\n",
        "x = 5\n",
        "y = 20\n",
        "z = 10\n",
        "\n",
        "if x>y:\n",
        "  print(\" x is greater than y.\")\n",
        "elif x>z:\n",
        "  print(\" x is greater than z.\")\n",
        "else:\n",
        "  print(\" x is the lowest.\")"
      ]
    },
    {
      "cell_type": "markdown",
      "metadata": {
        "id": "t3JxM7uClOMa"
      },
      "source": [
        "### For loop\n",
        "\n"
      ]
    },
    {
      "cell_type": "code",
      "execution_count": null,
      "metadata": {
        "colab": {
          "base_uri": "https://localhost:8080/"
        },
        "outputId": "1a746882-50cf-4f6b-d0f5-1c4060457201",
        "id": "x0R2PjVblOMb"
      },
      "outputs": [
        {
          "name": "stdout",
          "output_type": "stream",
          "text": [
            "1\n",
            "3\n",
            "6\n"
          ]
        }
      ],
      "source": [
        "# for #\n",
        "my_list = [1,2,3]\n",
        "\n",
        "sum=0\n",
        "for ad in my_list:\n",
        "    sum+=ad    #This is short hand for sum = sum+ad\n",
        "    print(sum)\n",
        "\n",
        "#for country in ['England', 'Spain', 'India']:\n",
        "#    print(country)"
      ]
    },
    {
      "cell_type": "code",
      "execution_count": null,
      "metadata": {
        "colab": {
          "base_uri": "https://localhost:8080/"
        },
        "id": "1DyCtJvxWr1b",
        "outputId": "b9bf52b1-b898-4862-85a0-8ed8b10c000d"
      },
      "outputs": [
        {
          "name": "stdout",
          "output_type": "stream",
          "text": [
            "0 a\n",
            "0 b\n",
            "0 c\n",
            "\n",
            "\n",
            "1 a\n",
            "1 b\n",
            "1 c\n",
            "\n",
            "\n",
            "2 a\n",
            "2 b\n",
            "2 c\n",
            "\n",
            "\n"
          ]
        }
      ],
      "source": [
        "# nested for #\n",
        "x=[0,1,2]\n",
        "y=['a','b','c']\n",
        "# nested for loops\n",
        "for a in x:\n",
        "    for b in y:\n",
        "        print(a,b)\n",
        "    print(\"\\n\")"
      ]
    },
    {
      "cell_type": "code",
      "execution_count": null,
      "metadata": {
        "colab": {
          "base_uri": "https://localhost:8080/"
        },
        "id": "EhYBQ9-TYQWX",
        "outputId": "b026c019-26d9-46e2-8c2b-36a7ab787de0"
      },
      "outputs": [
        {
          "name": "stdout",
          "output_type": "stream",
          "text": [
            "range(0, 5) <class 'range'>\n",
            "i: 5 is the value\n",
            "i: 7 is the value\n",
            "i: 9 is the value\n",
            "i: 11 is the value\n",
            "i: 13 is the value\n",
            "i: 15 is the value\n",
            "i: 17 is the value\n",
            "i: 19 is the value\n"
          ]
        }
      ],
      "source": [
        "# for and range #\n",
        "z=range(5)\n",
        "print(z, type(z))\n",
        "\n",
        "#Range\n",
        "#for i in z:\n",
        "#    print('Printing five')\n",
        "\n",
        "#for i in range(5):\n",
        "#    print('Print five more')\n",
        "\n",
        "#range(start=0, end, step=1)\n",
        "for i in range(5,20,2):\n",
        "    print('i: %d is the value' % (i))\n",
        "    #print(f'i:{i}  is the value' )"
      ]
    },
    {
      "cell_type": "markdown",
      "metadata": {
        "id": "7dDxz4czXSp4"
      },
      "source": [
        "### While loop\n",
        "- Performs a loop while a conditional is True.\n",
        "- Doesn't auto-increment."
      ]
    },
    {
      "cell_type": "code",
      "execution_count": null,
      "metadata": {
        "colab": {
          "base_uri": "https://localhost:8080/"
        },
        "outputId": "20e444f2-f729-443b-bc00-d374ee58dcc4",
        "id": "itXob5ralOMj"
      },
      "outputs": [
        {
          "name": "stdout",
          "output_type": "stream",
          "text": [
            "i: 12 is the value\n",
            "i: 10 is the value\n",
            "i: 8 is the value\n"
          ]
        }
      ],
      "source": [
        "# while loop #\n",
        "i = 12\n",
        "\n",
        "#while i >= 7:\n",
        "#    print(i)\n",
        "#    i = i -1\n",
        "\n",
        "for i in range(12,7,-2):\n",
        "    print('i: %d is the value' % (i))\n",
        "    #print(f'i:{i}  is the value' )"
      ]
    },
    {
      "cell_type": "markdown",
      "metadata": {
        "id": "-0tR1TB_ZR6q"
      },
      "source": [
        "Q1 : Input student score and show grade as follow condition\n",
        "\n",
        "*   A : >= 80\n",
        "*   B : 60-79\n",
        "*   C : < 60\n",
        "\n"
      ]
    },
    {
      "cell_type": "code",
      "execution_count": null,
      "metadata": {
        "colab": {
          "base_uri": "https://localhost:8080/"
        },
        "id": "19KIGfL1_hMc",
        "outputId": "4d520009-0bf2-4f78-cbf4-facf826fb7ce"
      },
      "outputs": [
        {
          "name": "stdout",
          "output_type": "stream",
          "text": [
            "input score: 79\n",
            "B\n"
          ]
        }
      ],
      "source": [
        "score = int(input(\"input score: \"))\n",
        "\n",
        "if score >= 80:\n",
        "  print(\"A\")\n",
        "elif score >= 60 and score <=79:\n",
        "  print(\"B\")\n",
        "else:\n",
        "  print(\"C\")"
      ]
    },
    {
      "cell_type": "markdown",
      "metadata": {
        "id": "Pjda_tw8_D5L"
      },
      "source": [
        "Q2 : Input the name and count vowel (a,e,i,o,u)"
      ]
    },
    {
      "cell_type": "code",
      "execution_count": 19,
      "metadata": {
        "colab": {
          "base_uri": "https://localhost:8080/"
        },
        "id": "B_ThIQHHKQei",
        "outputId": "71b5a2f1-df69-4532-8c40-efeeb6f73ec9"
      },
      "outputs": [
        {
          "output_type": "stream",
          "name": "stdout",
          "text": [
            "input name: Tipthida Paladkong\n",
            "word ['Tipthida', 'Paladkong']\n",
            "{'a': 3, 'e': 0, 'i': 2, 'o': 1, 'u': 0}\n"
          ]
        }
      ],
      "source": [
        "name = input(\"input name: \")\n",
        "\n",
        "count = { \"a\": 0,\n",
        "          \"e\": 0,\n",
        "          \"i\":0,\n",
        "          \"o\":0,\n",
        "          \"u\":0,}\n",
        "\n",
        "word = name.split()\n",
        "print(\"word\", word)\n",
        "\n",
        "for j in range(len(word)):\n",
        "  for i in word[j]:\n",
        "    if i=='a':\n",
        "      count[\"a\"] = count[\"a\"]+1\n",
        "    elif i=='e':\n",
        "      count[\"e\"] = count[\"e\"]+1\n",
        "    elif i=='i':\n",
        "      count[\"i\"] = count[\"i\"]+1\n",
        "    elif i=='o':\n",
        "      count[\"o\"] = count[\"o\"]+1\n",
        "    elif i=='e':\n",
        "      count[\"u\"] = count[\"u\"]+1\n",
        "\n",
        "print(count)"
      ]
    },
    {
      "cell_type": "markdown",
      "metadata": {
        "id": "9Hu-SccwlOMy"
      },
      "source": [
        "### Extra loop \"FAST\"\n",
        "\n"
      ]
    },
    {
      "cell_type": "markdown",
      "metadata": {
        "id": "_CKfveRnZyAf"
      },
      "source": [
        "Q : sum the numbers from 1 to 100000000"
      ]
    },
    {
      "cell_type": "code",
      "execution_count": null,
      "metadata": {
        "colab": {
          "base_uri": "https://localhost:8080/"
        },
        "outputId": "df9f6434-ad96-4fe4-eee2-a189094c2345",
        "id": "Rx1C7EW5lOM2"
      },
      "outputs": [
        {
          "name": "stdout",
          "output_type": "stream",
          "text": [
            "Sum: 4999999950000000\n",
            "For loop: 13.841039180755615 seconds\n"
          ]
        }
      ],
      "source": [
        "# loop #\n",
        "import time\n",
        "start = time.time()\n",
        "\n",
        "total_sum = 0\n",
        "for i in range(100000000):\n",
        "    total_sum += i\n",
        "\n",
        "print(f'Sum: {total_sum}')\n",
        "print(f'For loop: {time.time() - start} seconds')"
      ]
    },
    {
      "cell_type": "code",
      "execution_count": null,
      "metadata": {
        "colab": {
          "base_uri": "https://localhost:8080/"
        },
        "outputId": "98673e30-1d43-4a93-dd39-fcaeb7cff532",
        "id": "j2n0hzp_lOM5"
      },
      "outputs": [
        {
          "name": "stdout",
          "output_type": "stream",
          "text": [
            "Sum: 4999999950000000\n",
            "Sum/range: 2.0507190227508545 seconds\n"
          ]
        }
      ],
      "source": [
        "# build-in function #\n",
        "import time\n",
        "start = time.time()\n",
        "\n",
        "total_sum = sum(range(100000000))\n",
        "\n",
        "print(f'Sum: {total_sum}')\n",
        "print(f'Sum/range: {time.time() - start} seconds')"
      ]
    },
    {
      "cell_type": "code",
      "execution_count": null,
      "metadata": {
        "colab": {
          "base_uri": "https://localhost:8080/"
        },
        "id": "NLOGkx_oaN8G",
        "outputId": "37803ba0-9178-4507-8064-ae57fe70f2b4"
      },
      "outputs": [
        {
          "name": "stdout",
          "output_type": "stream",
          "text": [
            "Sum: 4999999950000000\n",
            "Duration: 0.41219210624694824 seconds\n"
          ]
        }
      ],
      "source": [
        "# numpy #\n",
        "import time\n",
        "import numpy as np\n",
        "start = time.time()\n",
        "total_sum = np.sum(np.arange(100000000))\n",
        "\n",
        "print(f'Sum: {total_sum}')\n",
        "print(f'Duration: {time.time() - start} seconds')"
      ]
    },
    {
      "cell_type": "markdown",
      "source": [
        "## Random\n",
        "\n",
        "* Random answer in list\n",
        "* Random integer value\n",
        "* Random floating point value\n",
        "* Random shuffle value in a list"
      ],
      "metadata": {
        "id": "l2zDFlD7x1G8"
      }
    },
    {
      "cell_type": "code",
      "execution_count": null,
      "metadata": {
        "id": "grOslD3LU61T"
      },
      "outputs": [],
      "source": [
        "# import random #\n",
        "import random"
      ]
    },
    {
      "cell_type": "code",
      "execution_count": null,
      "metadata": {
        "colab": {
          "base_uri": "https://localhost:8080/"
        },
        "id": "2a9kK14BVRKl",
        "outputId": "bfe03221-9618-4fa5-9b09-0d549f0c903f"
      },
      "outputs": [
        {
          "name": "stdout",
          "output_type": "stream",
          "text": [
            "peter\n"
          ]
        }
      ],
      "source": [
        "# prints a random value from the list\n",
        "list1 = [10, 28, 32, 49, 54, \"peter\"]\n",
        "print(random.choice(list1))"
      ]
    },
    {
      "cell_type": "code",
      "execution_count": null,
      "metadata": {
        "colab": {
          "base_uri": "https://localhost:8080/"
        },
        "id": "anPaRztUaIh4",
        "outputId": "c33fc621-393b-4dcb-ad78-9a299825452f"
      },
      "outputs": [
        {
          "name": "stdout",
          "output_type": "stream",
          "text": [
            "79\n",
            "1\n",
            "6\n",
            "95\n",
            "87\n",
            "60\n",
            "17\n",
            "80\n",
            "83\n",
            "83\n",
            "76\n",
            "69\n",
            "14\n",
            "68\n",
            "12\n",
            "20\n",
            "67\n",
            "89\n",
            "8\n",
            "51\n"
          ]
        }
      ],
      "source": [
        "# random integer #\n",
        "for i in range(20):\n",
        "   print(random.randint(0,100))"
      ]
    },
    {
      "cell_type": "code",
      "execution_count": null,
      "metadata": {
        "colab": {
          "base_uri": "https://localhost:8080/"
        },
        "id": "X6IOif9SakVq",
        "outputId": "62417bec-9dfa-4635-f0ca-c08999e58423"
      },
      "outputs": [
        {
          "name": "stdout",
          "output_type": "stream",
          "text": [
            "45.97685070749108\n",
            "87.98606987966039\n",
            "57.8367115375696\n",
            "72.09665158623807\n",
            "35.19710603743752\n",
            "52.31310811099426\n",
            "14.86719916842285\n",
            "35.06868098527828\n",
            "12.94941574346925\n",
            "79.0310522279003\n"
          ]
        }
      ],
      "source": [
        "# random floating point #\n",
        "for i in range(10):\n",
        "   num = 100*random.random()\n",
        "   print(num)"
      ]
    },
    {
      "cell_type": "code",
      "execution_count": null,
      "metadata": {
        "colab": {
          "base_uri": "https://localhost:8080/"
        },
        "id": "u8nT4wQIauVQ",
        "outputId": "1b6e4356-c093-4457-e6a0-7df3a9d5a9e0"
      },
      "outputs": [
        {
          "name": "stdout",
          "output_type": "stream",
          "text": [
            "[60, 20, 30, 40, 10, 50]\n"
          ]
        }
      ],
      "source": [
        "# random shuffle #\n",
        "x = [10, 20, 30, 40, 50, 60]\n",
        "random.shuffle(x)\n",
        "print(x)\n",
        "# [60, 10, 30, 20, 50, 40]"
      ]
    },
    {
      "cell_type": "markdown",
      "metadata": {
        "id": "ohCxNmDzr3YT"
      },
      "source": [
        "## Sorted\n",
        "\n",
        "*   sort with sorted()\n",
        "*   sort list, tuple, set, string\n",
        "*   sort list of dictionary\n",
        "\n",
        "\n"
      ]
    },
    {
      "cell_type": "code",
      "execution_count": null,
      "metadata": {
        "colab": {
          "base_uri": "https://localhost:8080/"
        },
        "id": "y44sHj11sWPi",
        "outputId": "48c3e40c-f6b6-499a-c891-1e8b490c8709"
      },
      "outputs": [
        {
          "name": "stdout",
          "output_type": "stream",
          "text": [
            "[1, 4, 7, 10]\n"
          ]
        }
      ],
      "source": [
        "# sort list #\n",
        "num_list = [4, 10, 1, 7]\n",
        "sorted_list = sorted(num_list)\n",
        "print(sorted_list)"
      ]
    },
    {
      "cell_type": "code",
      "execution_count": null,
      "metadata": {
        "colab": {
          "base_uri": "https://localhost:8080/"
        },
        "id": "g1lGIapIs17i",
        "outputId": "fde716f3-5a1a-40e8-e3fc-037946167d81"
      },
      "outputs": [
        {
          "name": "stdout",
          "output_type": "stream",
          "text": [
            "tuples (4, 10, 1, 7)\n",
            "sorted_tuples [1, 4, 7, 10]\n",
            "\n",
            "\n",
            "sets {0, 10, 2, 5}\n",
            "sorted_sets [0, 2, 5, 10]\n"
          ]
        }
      ],
      "source": [
        "# sort tuples and set #\n",
        "tuples = (4, 10, 1, 7)\n",
        "sets = {10, 5, 10, 0, 2}\n",
        "sorted_tuples = sorted(tuples)\n",
        "sorted_sets = sorted(sets)\n",
        "\n",
        "print(\"tuples\", tuples)\n",
        "print(\"sorted_tuples\", sorted_tuples)\n",
        "\n",
        "print(\"\\n\")\n",
        "print(\"sets\", sets)\n",
        "print(\"sorted_sets\", sorted_sets)"
      ]
    },
    {
      "cell_type": "code",
      "execution_count": null,
      "metadata": {
        "colab": {
          "base_uri": "https://localhost:8080/"
        },
        "id": "rCb8J_8LdfSk",
        "outputId": "a75fa3bd-a3ef-44bd-9340-da72357d748c"
      },
      "outputs": [
        {
          "name": "stdout",
          "output_type": "stream",
          "text": [
            "sorted_num_string ['5', '6', '7', '8', '9']\n",
            "sorted_char_string [' ', ' ', 'f', 'g', 'i', 'i', 'n', 'n', 'o', 'r', 's', 's', 't', 'u']\n",
            "sorted_string ['fun', 'is', 'sorting']\n"
          ]
        }
      ],
      "source": [
        "# sort character and word in string #\n",
        "num_string = '98765'\n",
        "char_string = 'sorting is fun'\n",
        "sorted_num_string = sorted(num_string)\n",
        "sorted_char_string = sorted(char_string)\n",
        "\n",
        "print(\"sorted_num_string\", sorted_num_string)\n",
        "print(\"sorted_char_string\", sorted_char_string)\n",
        "\n",
        "string = 'sorting is fun'\n",
        "sorted_string = sorted(string.split())\n",
        "print(\"sorted_string\", sorted_string)"
      ]
    },
    {
      "cell_type": "markdown",
      "metadata": {
        "id": "GvGKQZmTwY01"
      },
      "source": [
        "The built-in Python function sorted() comprises of three parameters:\n",
        "\n",
        "**iterable** — Required. A sequence such as string, tuple or list and collection such as set or dictionary.\n",
        "\n",
        "**key** — Optional. A function that serves as a key or to customize the sort order. The argument is set to None by default.\n",
        "\n",
        "**reverse** — Optional. A boolean flag that reverses the order of sorting. If True, the sorted list is reversed. The default argument is False."
      ]
    },
    {
      "cell_type": "code",
      "execution_count": null,
      "metadata": {
        "colab": {
          "base_uri": "https://localhost:8080/"
        },
        "id": "VU1OtIkawg1X",
        "outputId": "483c61e6-8c93-473a-fea7-88b2a7e696d2"
      },
      "outputs": [
        {
          "name": "stdout",
          "output_type": "stream",
          "text": [
            "name_sort ['Alex', 'Harleen', 'Markian', 'Suzzane']\n",
            "name_sort_rev ['Suzzane', 'Markian', 'Harleen', 'Alex']\n"
          ]
        }
      ],
      "source": [
        "# reversed sort #\n",
        "name_list = ['Markian', 'Alex', 'Suzzane', 'Harleen']\n",
        "name_sort = sorted(name_list)\n",
        "print(\"name_sort\", name_sort)\n",
        "name_sort_rev = sorted(name_list, reverse=True)\n",
        "print(\"name_sort_rev\", name_sort_rev)"
      ]
    },
    {
      "cell_type": "code",
      "execution_count": null,
      "metadata": {
        "colab": {
          "base_uri": "https://localhost:8080/"
        },
        "id": "u8Ayk0lOxRxj",
        "outputId": "b19371c8-13f5-4281-b264-c5eb4cfb5102"
      },
      "outputs": [
        {
          "name": "stdout",
          "output_type": "stream",
          "text": [
            "key_sort ['donut', 'cherry', 'Michigan', 'transcipt']\n"
          ]
        }
      ],
      "source": [
        "# sort by len #\n",
        "word_list = ['cherry', 'donut', 'Michigan', 'transcipt']\n",
        "key_sort = sorted(word_list, key=len)\n",
        "\n",
        "print(\"key_sort\", key_sort)"
      ]
    },
    {
      "cell_type": "code",
      "execution_count": null,
      "metadata": {
        "colab": {
          "base_uri": "https://localhost:8080/"
        },
        "id": "Tb8qSWt2yO4I",
        "outputId": "b1ee15d6-76ac-437b-abc7-87a3fb0118b8"
      },
      "outputs": [
        {
          "name": "stdout",
          "output_type": "stream",
          "text": [
            "before sorted [{'name': 'Homer', 'age': 39}, {'name': 'Bart', 'age': 10}]\n",
            "after sorted [{'name': 'Bart', 'age': 10}, {'name': 'Homer', 'age': 39}]\n"
          ]
        }
      ],
      "source": [
        "# sort list of dictionary #\n",
        "list_data = [{'name': 'Homer',\n",
        "              'age': 39},\n",
        "             {'name': 'Bart',\n",
        "              'age': 10}]\n",
        "list_sorted = sorted(list_data, key=lambda d: d['age'])\n",
        "\n",
        "print(\"before sorted\", list_data)\n",
        "print(\"after sorted\", list_sorted)"
      ]
    }
  ],
  "metadata": {
    "colab": {
      "provenance": [],
      "toc_visible": true
    },
    "kernelspec": {
      "display_name": "Python 3",
      "name": "python3"
    },
    "language_info": {
      "name": "python"
    }
  },
  "nbformat": 4,
  "nbformat_minor": 0
}